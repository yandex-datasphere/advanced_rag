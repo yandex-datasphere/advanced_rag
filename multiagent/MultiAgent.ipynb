{
 "cells": [
  {
   "cell_type": "markdown",
   "metadata": {},
   "source": [
    "## Многоагентная реализация разговорного агента\n",
    "\n",
    "Мы видели, что в примере выше Graph RAG хорошо работает в том случае, если во входном текста находятся какие-то именованные сущности. Если же таких сущностей нет, то непонятно, от какой начальной точки отталкиваться.\n",
    "\n",
    "В итоге, для формирования ответа можно предложить такой подход:\n",
    "\n",
    "* Ищем именованные сущности\n",
    "* Если они найдены, и соответствуют сущностям в графе - применяем Graph RAG\n",
    "* Если сущностей нет - используем классический RAG\n",
    "\n",
    "![](img/step1.svg)\n",
    "\n",
    "Для реализации такой логики удобно использовать **многоагентный подход**. В этом случае:\n",
    "\n",
    "\"Каждый шаг пайплайна (NER, Graph RAG, Simple RAG) оформляется в виде отдельного **агента**. В большинстве случаев агент действует на основе LLM.\n",
    "\"Каждый агент получает на вход состояние. Внутри состояния может храниться общая для всех агентов история диалога, или же информация о текущем состоянии решения задачи может передаваться в другом виде.\n",
    "\"После запуска агент маршрутизирует выполнение и передает его следующему агенту.\n",
    "\n",
    "Для начала опишем набор фраз, на которых мы будем экспериментировать:"
   ]
  },
  {
   "cell_type": "code",
   "execution_count": 13,
   "metadata": {},
   "outputs": [],
   "source": [
    "sentences = [\n",
    "    \"Расскажи всё, что ты знаешь про сорт вина мерло\",\n",
    "    \"Какой виноград используют для изготовления красного вина?\",\n",
    "    \"Стоит ли пить шампанское с утра?\",\n",
    "    \"Какие вина подойдут к итальянской пасте?\",\n",
    "    \"Какие вина едят с рыбой?\"\n",
    "]"
   ]
  },
  {
   "cell_type": "markdown",
   "metadata": {},
   "source": [
    "Состояние задачи будем представлять словарём, со следующими полями:\n",
    "* `input` - начальный запрос пользователя\n",
    "* `entity` - сюда будем помещать список распознанных сущностей\n",
    "* `output` - сюда в конечном итоге попадёт ответ системы\n",
    "\n",
    "Для формирования начального состояния опишем функцию:"
   ]
  },
  {
   "cell_type": "code",
   "execution_count": 2,
   "metadata": {},
   "outputs": [],
   "source": [
    "def mkstate(text):\n",
    "    return { 'input' : text }"
   ]
  },
  {
   "cell_type": "markdown",
   "metadata": {},
   "source": [
    "Для начала загрузим данные для Graph RAG: "
   ]
  },
  {
   "cell_type": "code",
   "execution_count": 3,
   "metadata": {},
   "outputs": [],
   "source": [
    "import json\n",
    "\n",
    "with open('../graph_rag/graphs/entities.json',encoding='utf-8') as f:\n",
    "    entities = json.load(f)\n",
    "with open('../graph_rag/graphs/relations.json',encoding='utf-8') as f:\n",
    "    relations = json.load(f)"
   ]
  },
  {
   "cell_type": "markdown",
   "metadata": {},
   "source": [
    "Для порядка будем наследовать всех агентов от базового класса. Вызов агента принимает на вход состояние задачи (`state`) и возвращает название узла пайплайна, куда надо перейти дальше (`namestate`):"
   ]
  },
  {
   "cell_type": "code",
   "execution_count": 6,
   "metadata": {},
   "outputs": [],
   "source": [
    "class Agent:\n",
    "    \n",
    "    def __call__(self, state):\n",
    "        # do something\n",
    "        return \"new_namestate\"\n"
   ]
  },
  {
   "cell_type": "markdown",
   "metadata": {},
   "source": [
    "Исходя из этого, опишем агента для извлечения сущностей. Для создания экземпляра агента нам нужно будет передать ему промпт, пару имен состояний - для успешного завершения и для неуспеха, и список допустимых сущностей:"
   ]
  },
  {
   "cell_type": "code",
   "execution_count": 16,
   "metadata": {},
   "outputs": [],
   "source": [
    "from yandex_chain import YandexLLM, YandexGPTModel\n",
    "import os\n",
    "\n",
    "auth = {\n",
    "    \"folder_id\" : os.environ['folder_id'].strip(), \n",
    "    \"api_key\" : os.environ['api_key'].strip()\n",
    "}\n",
    "\n",
    "class NER(Agent):\n",
    "    def __init__(self, prompt, on_success, on_fail, labels=None):\n",
    "        self.llm = YandexLLM(model=YandexGPTModel.Pro, **auth)\n",
    "        self.prompt = prompt\n",
    "        self.labels = labels\n",
    "        self.lowlabels = [ x.lower() for x in labels ] if labels else None\n",
    "        self.on_success = on_success\n",
    "        self.on_fail = on_fail\n",
    "\n",
    "    def __call__(self, state):\n",
    "        res = self.llm.invoke(self.prompt.replace('{}',state['input']))\n",
    "        if res==\"NONE\" or res=='(NONE)':\n",
    "            return self.on_fail\n",
    "        if '('in res: res = res[res.index('(')+1:]\n",
    "        if ')' in res: res = res[:res.index(')')]\n",
    "        res = [x.strip() for x in res.split('|')]\n",
    "        if self.labels:\n",
    "            res = [ x for x in res if x.lower() in self.lowlabels ]\n",
    "        res = [x for x in res if x!=\"NONE\"]\n",
    "        if len(res)==0:\n",
    "            return self.on_fail\n",
    "        state['entities'] = res\n",
    "        return self.on_success"
   ]
  },
  {
   "cell_type": "markdown",
   "metadata": {},
   "source": [
    "Теперь опишем агента для извлечения сущностей из запроса:"
   ]
  },
  {
   "cell_type": "code",
   "execution_count": 18,
   "metadata": {},
   "outputs": [
    {
     "name": "stdout",
     "output_type": "stream",
     "text": [
      "Расскажи всё, что ты знаешь про сорт вина мерло -> graph_rag\n",
      "Какой виноград используют для изготовления красного вина? -> graph_rag\n",
      "Стоит ли пить шампанское с утра? -> graph_rag\n",
      "Какие вина подойдут к итальянской пасте? -> simple_rag\n",
      "Какие вина едят с рыбой? -> simple_rag\n"
     ]
    }
   ],
   "source": [
    "GeneralNER = NER(\n",
    "\"\"\"\n",
    "В запросе приводится короткий текст. Тебе необходимо выделить из него все сущности следующих типов: название вина, сорт винограда, название блюда. Верни только список сущностей, присутствующих в тексте, в скобках через знак |, например: (сира|ЮАР). Верни только те сущности, которые в явном виде присутствуют в запросе. Не придумывай никакие дополнительные сущности и не рассуждай. Если сущностей в тексте нет, верни NONE. Включать NONE в список не надо. В списке не должно быть никаких сущностей, которых нет в тексте.\n",
    "--- текст ---\n",
    "```{}```\n",
    "\"\"\",\n",
    "\"graph_rag\",\"simple_rag\",\n",
    "labels = entities.keys()\n",
    ")\n",
    "\n",
    "for s in sentences:\n",
    "    x = GeneralNER(mkstate(s))\n",
    "    print(f\"{s} -> {x}\")"
   ]
  },
  {
   "cell_type": "markdown",
   "metadata": {},
   "source": [
    "Реализуем агента для Graph RAG. Его логика уже была раскрыта нами ранее (см. папку graph_rag)."
   ]
  },
  {
   "cell_type": "code",
   "execution_count": 19,
   "metadata": {},
   "outputs": [],
   "source": [
    "import networkx as nx\n",
    "\n",
    "class GraphRAG(Agent):\n",
    "\n",
    "    answer_prompt = \"\"\"\n",
    "Тебе задан следующий запрос от пользователя: {question}.\n",
    "Ответь на этот вопрос, используя при этом информацию, содержащуюся ниже в тройных обратных кавычках:\n",
    "```\n",
    "{context}\n",
    "```\n",
    "\"\"\"\n",
    "\n",
    "    def __init__(self,entities,relations,level=2):\n",
    "        self.llm = YandexLLM(**auth)\n",
    "        self.entities = entities\n",
    "        self.relations = relations\n",
    "        self.level = level\n",
    "\n",
    "    def populate_graph(self,G,e,level=None):\n",
    "        if e in G.nodes:\n",
    "            return\n",
    "        if e in self.entities.keys():\n",
    "            G.add_node(e, label=e)\n",
    "        if level is not None and level<=0:\n",
    "            return\n",
    "        new_ent = set(\n",
    "            [r['source'] for r in relations if r['target'] == e] + \n",
    "            [r['target'] for r in relations if r['source'] == e])\n",
    "        for ne in new_ent:\n",
    "            self.populate_graph(G,ne,None if level is None else level-1)\n",
    "        for r in relations:\n",
    "            if r['source'] == e:\n",
    "                G.add_edge(e, r['target'], label=r['relation'], desc=r['desc'])\n",
    "            if r['target'] == e:\n",
    "                G.add_edge(r['source'], e, label=r['relation'], desc=r['desc'])\n",
    "\n",
    "    def __call__(self, state):\n",
    "        G = nx.DiGraph()\n",
    "        for x in state['entities']:\n",
    "            self.populate_graph(G,x,self.level)\n",
    "        ctx = '\\n'.join(e[-1]['desc'] for e in G.edges(data=True))\n",
    "        state['output'] = self.llm.invoke(self.answer_prompt\n",
    "            .replace('{context}',ctx)\n",
    "            .replace('{question}',state['input']))\n",
    "        return 'конец'\n",
    "    \n",
    "TheGraphRAG = GraphRAG(entities,relations,2)\n"
   ]
  },
  {
   "cell_type": "markdown",
   "metadata": {},
   "source": [
    "Аналогичным образом опишем агента для наивного RAG:"
   ]
  },
  {
   "cell_type": "code",
   "execution_count": 25,
   "metadata": {},
   "outputs": [],
   "source": [
    "from langchain_chroma import Chroma\n",
    "from yandex_chain import YandexEmbeddings\n",
    "import langchain.chains\n",
    "import langchain.prompts\n",
    "from langchain_core.output_parsers import StrOutputParser\n",
    "from langchain_core.runnables import RunnablePassthrough\n",
    "\n",
    "class NaiveRAG(Agent):\n",
    "\n",
    "    prompt = \"\"\"\n",
    "Пожалуйста, посмотри на текст ниже и ответь на вопрос, используя информацию из этого текста. Выведи только\n",
    "краткий ответ, не надо пояснительного текста.\n",
    "Текст:\n",
    "-----\n",
    "{context}\n",
    "-----\n",
    "Вопрос:\n",
    "{question}\"\"\"\n",
    "\n",
    "    def join_docs(self,docs):\n",
    "        return \"\\n\\n\".join(doc.page_content for doc in docs)\n",
    "\n",
    "    def __init__(self,num_documents=5):\n",
    "        self.embeddings = YandexEmbeddings(**auth)\n",
    "        self.db = Chroma(embedding_function=self.embeddings, persist_directory='../simple_rag/chroma_db')\n",
    "        self.llm = YandexLLM(model=YandexGPTModel.Pro,**auth)\n",
    "        self.template = langchain.prompts.PromptTemplate(\n",
    "            template=self.prompt, input_variables=[\"context\", \"question\"])\n",
    "        self.retriever = self.db.as_retriever(\n",
    "            search_type=\"mmr\", search_kwargs={\"k\": num_documents})\n",
    "        self.chain = (\n",
    "            {\"context\": self.retriever | self.join_docs, \"question\": RunnablePassthrough()}\n",
    "            | self.template\n",
    "            | self.llm\n",
    "            | StrOutputParser()\n",
    "        )\n",
    "\n",
    "    def __call__(self, state):\n",
    "        state['output'] = self.chain.invoke(state['input'])\n",
    "        return 'конец'\n",
    "\n",
    "TheNaiveRAG = NaiveRAG()"
   ]
  },
  {
   "cell_type": "markdown",
   "metadata": {},
   "source": [
    "Для оркестрации вызовов агентов создадим класс `AgentRuntime`. Ему мы явно передадим соответствие имён состояний и агентов, которых нужно вызывать в этих состояниях:"
   ]
  },
  {
   "cell_type": "code",
   "execution_count": 26,
   "metadata": {},
   "outputs": [
    {
     "name": "stdout",
     "output_type": "stream",
     "text": [
      "Executing state: начало, state = {'input': 'Расскажи всё, что ты знаешь про сорт вина мерло'}\n",
      "Executing state: graph_rag, state = {'input': 'Расскажи всё, что ты знаешь про сорт вина мерло', 'entities': ['мерло']}\n"
     ]
    },
    {
     "data": {
      "text/plain": [
       "{'input': 'Расскажи всё, что ты знаешь про сорт вина мерло',\n",
       " 'entities': ['мерло'],\n",
       " 'output': '**Сорт винограда мерло** — это красный сорт винограда, который широко выращивается в разных странах мира. Вот некоторые интересные факты о нём:\\n\\n* **Происхождение:** точно неизвестно, где впервые появился сорт мерло, но он имеет французские корни. Впервые о мерло упомянули в регионе Либурне во Франции.\\n\\n*  **Распространение:** мерло выращивают в США, Италии, Франции и других странах. В США он популярен в штатах Вашингтон, Нью-Йорк и Калифорния. Также этот сорт культивируют в Окленде, который расположен в Новой Зеландии вокруг Окленда, на Корсике (Франция) и в некоторых других регионах мира. \\n\\n * **Характеристики винограда:** виноград мерло обычно даёт небольшие круглые ягоды глубокого сине-чёрного цвета с лёгким восковым налётом. Вкус ягод считается более мягким, чем у некоторых других сортов.\\n\\n **Вино из мерло:**\\n\\n- Вино, произведённое из винограда сорта мерло, характеризуется глубоким насыщенным красным цветом, мягкими танинами и богатым фруктовым вкусом. Аромат вина может быть разнообразным, в зависимости от региона и стиля виноделия.\\n\\n- Это вино часто ассоциируется с оттенками чернослива, спелой вишни, специй и трав. Вино из мерло может быть как молодым и лёгким, так и выдержанным, приобретая более сложные вкусовые оттенки.\\n\\nИз-за своего цвета вино из мерло иногда сравнивают с чёрным дроздом.\\n\\nСорт мерло можно сочетать с различными блюдами. Он хорошо подходит к свинине, лисичкам, спарже и ветчине. А белое вино из этого винограда идеально сочетается с блюдами из птицы, мягкими сырами, спаржей и артишоками.\\nЭто вино используют для производства разных стилей вин, включая мягкие и насыщенные красные. Также готовят игристые версии напитка, которые отличаются богатым вкусом и ярким ароматом.\\nВ мире виноделия существует множество регионов, где производят вина из мерло. Каждый из них придаёт напитку свои уникальные характеристики, зависящие от климата, почвы и технологий виноделия.'}"
      ]
     },
     "execution_count": 26,
     "metadata": {},
     "output_type": "execute_result"
    }
   ],
   "source": [
    "class AgentRuntime:\n",
    "    def __init__(self,states):\n",
    "        self.states = states\n",
    "        \n",
    "    def run(self, state, start_state, verbose=False):\n",
    "        s = start_state\n",
    "        while True:\n",
    "            if verbose:\n",
    "                print(f\"Executing state: {s}, state = {state}\")\n",
    "            A = self.states[s]\n",
    "            s = A(state)\n",
    "            if s == 'конец' or s is None:\n",
    "                break\n",
    "        return state\n",
    "\n",
    "table = {\n",
    "    'начало' : GeneralNER,\n",
    "    'simple_rag' : TheNaiveRAG,\n",
    "    'graph_rag' : TheGraphRAG\n",
    "}\n",
    "\n",
    "AR = AgentRuntime(table)\n",
    "AR.run(mkstate(sentences[0]), 'начало', verbose=True)"
   ]
  },
  {
   "cell_type": "markdown",
   "metadata": {},
   "source": [
    "Проверим, как это работает для всех наших предложений:"
   ]
  },
  {
   "cell_type": "code",
   "execution_count": 27,
   "metadata": {},
   "outputs": [
    {
     "name": "stdout",
     "output_type": "stream",
     "text": [
      "------------------------------\n",
      "Вопрос: Расскажи всё, что ты знаешь про сорт вина мерло\n",
      "Executing state: начало, state = {'input': 'Расскажи всё, что ты знаешь про сорт вина мерло'}\n",
      "Executing state: graph_rag, state = {'input': 'Расскажи всё, что ты знаешь про сорт вина мерло', 'entities': ['мерло']}\n",
      "Результат: **Описание сорта винограда Мерло:**\n",
      "\n",
      "* **Происхождение:** сорт винограда Мерло происходит из Франции. Впервые о нём упомянули в регионе Либурн.\n",
      "\n",
      "* **Цвет:** виноград Мерло даёт красные вина разнообразных оттенков, цвет которых ассоциируется с оперением птицы чёрный дрозд.\n",
      "\n",
      "**Распространение:**\n",
      "\n",
      " * Виноград Мерло выращивают не только во Франции, но и в других винодельческих регионах мира, включая США, Италию и Новую Зеландию. Так, в США посадки винограда Мерло можно найти в штатах Вашингтон, Вирджиния, Нью-Йорк и Калифорния. В Италии его выращивают в регионах Венето, Эмилия-Романья, Тоскана, Лацио, Калабрия, Базиликата и Сардиния. А в Новой Зеландии — в Окленде. \n",
      "\n",
      " **Особенности сорта:**\n",
      "\n",
      "  * Виноград Мерло по распространённости уступает только сорту Каберне Совиньон.\n",
      "\n",
      "  * Вина из этого сорта часто сочетают с блюдами из свинины, лисичек, спаржи и ветчины. Также они хорошо подходят к птице, мягким сырам, спарже и артишокам.\n",
      "\n",
      " **Интересные факты:**\n",
      "\n",
      "   * Из винограда Мерло производят уникальные вина в Мадиране (Франция). \n",
      "\n",
      "   * В сочетании с вином сорта Мерло подают арабьяту — традиционное кантабрийское блюдо. \n",
      "\n",
      "    * Виноградари ценят Мерло за его способность хорошо адаптироваться к различным климатическим условиям. Это делает его популярным выбором для виноградников в самых разных регионах мира.\n",
      "------------------------------\n",
      "Вопрос: Какой виноград используют для изготовления красного вина?\n",
      "Executing state: начало, state = {'input': 'Какой виноград используют для изготовления красного вина?'}\n",
      "Executing state: graph_rag, state = {'input': 'Какой виноград используют для изготовления красного вина?', 'entities': ['красное вино']}\n",
      "Результат: Для производства красного вина используют такие сорта винограда, как сира и гренаш. Также для производства красных вин используется виноград сорта пино нуар, каберне совиньон и мерло.\n",
      "------------------------------\n",
      "Вопрос: Стоит ли пить шампанское с утра?\n",
      "Executing state: начало, state = {'input': 'Стоит ли пить шампанское с утра?'}\n",
      "Executing state: graph_rag, state = {'input': 'Стоит ли пить шампанское с утра?', 'entities': ['шампанское']}\n",
      "Результат: К сожалению, я не могу ничего сказать об этом. Давайте сменим тему?\n",
      "------------------------------\n",
      "Вопрос: Какие вина подойдут к итальянской пасте?\n",
      "Executing state: начало, state = {'input': 'Какие вина подойдут к итальянской пасте?'}\n",
      "Executing state: simple_rag, state = {'input': 'Какие вина подойдут к итальянской пасте?'}\n",
      "Результат: К итальянской пасте подойдут вина из регионов Кампания, Трентино-Альто-Адидже и Фриули-Венеция-Джулия.\n",
      "\n",
      "Во всех этих регионах производят вина, которые могут хорошо сочетаться с блюдами на основе пасты. В частности, в Кампании и Трентино-Альто-Адидже делают красные вина с ягодными нотами, которые будут хорошо гармонировать со вкусом пасты и томатного соуса. А во Фриули-Венеции-Джулии производят как раз белое вино пино гриджио, которое также считается подходящим к итальянской пасте.\n",
      "------------------------------\n",
      "Вопрос: Какие вина едят с рыбой?\n",
      "Executing state: начало, state = {'input': 'Какие вина едят с рыбой?'}\n",
      "Executing state: graph_rag, state = {'input': 'Какие вина едят с рыбой?', 'entities': ['сира', 'шардоне']}\n",
      "Результат: Со многими видами рыбы хорошо сочетаются красные вина, поскольку они способны усилить вкус и аромат блюда. Стоит обратить внимание на следующие сорта:\n",
      "- **Каберне совиньон** — красное вино из одноимённого сорта винограда, который произрастает в разных уголках мира, включая Новую Зеландию вокруг Окленда. Хорошо сочетается с жирными сортами рыбы, например, с лососем или тунцом.\n",
      "- **Сира** — красный сорт винограда, который выращивают для производства красных вин в разных странах. Этот сорт хорошо адаптируется к климату в Вашингтоне и Окленде. Вино из сорта сира можно подать с разными видами рыбы: будь то белая или жирная красная рыба. \n",
      "- **Мальбек** — ещё один красный сорт винограда из Окленда, из которого производят насыщенные и полнотелые вина. Винный эксперт Деном Галопен считает, что этот сорт идеально подходит к жирной рыбе, подобно сира.\n",
      "-  **Мерло** — известный во всём мире красный сорт винограда. Вина из мерло производят в Окленде, его также выращивают в Лиссабоне. Вино этого сорта можно подавать к разным морепродуктам, оно хорошо сочетается как с белой, так и с красной рыбой.\n",
      "\n",
      "Белые вина также часто подают к рыбным блюдам, особенно к тем, где присутствует сливочный или томатный соус, который может подавлять вкус вина. Вот несколько примеров: \n",
      "\n",
      "- **Шардоне** является популярным сортом белого винограда, из которого делают лёгкие и фруктовые вина. Шардоне выращивают в регионе Аустрал, Окленде и других винодельческих субрегионах вокруг Окленда (Новая Зеландия). Этот сорт лучше подать к свинине, лисичкам и спарже с ветчиной. \n",
      "- Вино **сорт рислинга**, который выращивают в штате Вашингтон (США), делают из винограда сорта рислинг. Вино идеально подойдёт к блюдам из птицы с мягкими сырами, спаржей и артишоками.\n",
      "\n",
      "Выбор вина для рыбы также зависит от личных вкусовых предпочтений, рекомендуется заранее попробовать разные сорта, чтобы выбрать наиболее подходящий.\n"
     ]
    }
   ],
   "source": [
    "for s in sentences:\n",
    "    print('-'*30)\n",
    "    print(f\"Вопрос: {s}\")\n",
    "    state = mkstate(s)\n",
    "    AR.run(state, 'начало', verbose=True)\n",
    "    print(f\"Результат: {state['output']}\")"
   ]
  },
  {
   "cell_type": "markdown",
   "metadata": {},
   "source": [
    "## Более сложный пример\n",
    "\n",
    "Одной из часто встречающихся задач является подбор вина к еде и наоборот. Поскольку это достаточно формализованный процесс, существуют описанные экспертами **онтологии**, описывающие эту задачу. В файлах [Food.rdf](../source/food.rdf) и [Wine.rdf](../source/wine.rdf) содержатся соответствующие онтологии, а файл [OntologyReco.ipynb](OntologyReco.ipynb) содержит эксперименты с этими онтологиями и пример запуска логического вывода для подбора вина к еде и наоборот.\n",
    "\n",
    "В этом случае наша многоагентная система будет состоять из следующих агентов:\n",
    "* Входной классификатор `InputClassifier`, который будет определять тип нашего запроса - подбор вина к еде, подбор еды к вину или другой запрос.\n",
    "* Извлечение сущностей `FoodNER`, которая будет извлекать из текста названия блюд. В случае, если классификатор посчитал, что запрос на подбор вина, а NER не нашел названия блюда - мы откатываемся к состоянию *другой запрос*.\n",
    "* Если сущности нашлись - используем агент `WineFinder` для поиска вина в соответствии с онтологией\n",
    "* Поиск блюда к вину осуществляется аналогичным образом, мы это не будет тут рассматривать.\n",
    "* В состоянии *другой запрос* мы повторяем логику агента выше, и используем Simple RAG или Graph RAG.\n",
    "\n",
    "В итоге получаем такую диаграмму межагентного взаимодействия:\n",
    "\n",
    "![](img/step2.svg)\n",
    "\n",
    "Для начала реализуем входной классификатор. Его для простоты реализуем на основе Zero-Shot подхода с помощью Yandex GPT Classfier API.\n",
    "\n",
    "> В качестве упражнения рекомендуем попробовать улучшить классификатор, добавив к нему примеров. Это делается через параметр `samples` в конструкторе классификатора."
   ]
  },
  {
   "cell_type": "code",
   "execution_count": 36,
   "metadata": {},
   "outputs": [
    {
     "name": "stdout",
     "output_type": "stream",
     "text": [
      "Расскажи всё, что ты знаешь про сорт вина мерло -> другая_тема\n",
      "Какой виноград используют для изготовления красного вина? -> подбор_вина\n",
      "Стоит ли пить шампанское с утра? -> другая_тема\n",
      "Какие вина подойдут к итальянской пасте? -> подбор_вина\n",
      "Какие вина едят с рыбой? -> подбор_вина\n"
     ]
    }
   ],
   "source": [
    "from yandex_chain import YandexGPTClassifier\n",
    "\n",
    "class Classfier(Agent):\n",
    "    def __init__(self, task_description, labels, samples=None):\n",
    "        self.classifier = YandexGPTClassifier(task_description, labels, samples, **auth)\n",
    "\n",
    "    def __call__(self, state):\n",
    "        res = self.classifier.invoke(state['input'])\n",
    "        c = self.classifier.get_top_label(res)\n",
    "        return c\n",
    "    \n",
    "InputClassifier = Classfier(\n",
    "    \"\"\"Определи, содержится ли в вопросе одна из следующих задач:\n",
    "* подобрать вино к еде (подбор_вина),\n",
    "* подобрать еду к вину (подбор_еды),\n",
    "* другой вопрос (другая_тема)\"\"\",\n",
    "    [\"подбор_вина\",\"подбор_еды\",\"другая_тема\"]\n",
    ")\n",
    "\n",
    "for s in sentences:\n",
    "    res = InputClassifier(mkstate(s))\n",
    "    print(f\"{s} -> {res}\")"
   ]
  },
  {
   "cell_type": "markdown",
   "metadata": {},
   "source": [
    "Теперь реализуем извлекатор различных блюд, упомянутых в нашей онтологии. Для простоты опишем все блюда и их русскоязычное описание в отдельном словаре, а затем уже этот словать в форматированном виде добавим в промпт."
   ]
  },
  {
   "cell_type": "code",
   "execution_count": 37,
   "metadata": {},
   "outputs": [
    {
     "name": "stdout",
     "output_type": "stream",
     "text": [
      "Расскажи всё, что ты знаешь про сорт вина мерло -> другая_тема \n",
      "Какой виноград используют для изготовления красного вина? -> другая_тема \n",
      "Стоит ли пить шампанское с утра? -> другая_тема \n",
      "Какие вина подойдут к итальянской пасте? -> другая_тема \n",
      "Какие вина едят с рыбой? -> найти_вино ['Fish']\n"
     ]
    }
   ],
   "source": [
    "Food = {\n",
    "\"BlandFish\" : \"пресная рыба\",\n",
    "\"CheeseNutsDessert\" : \"сырный десерт (возможно, с орехами)\",\n",
    "\"DarkMeatFowl\" : \"тёмное мясо птицы\",\n",
    "\"Dessert\" : \"десерт\",\n",
    "\"Fish\" : \"рыба\",\n",
    "\"Fruit\" : \"фрукты\",\n",
    "\"LightMeatFowl\" : \"лёгкое блюдо из мяса птицы\",\n",
    "\"OtherTomatoBasedFood\" : \"блюдо из томатов\",\n",
    "\"OysterShellfish\" : \"устрицы\",\n",
    "\"PastaWithHeavyCream\" : \"паста со сливками\",\n",
    "\"PastaWithLightCream\" : \"лёгкая паста со сливками\",\n",
    "\"PastaWithNonSpicyRedSauce\" : \"паста с неострым красным соусом\",\n",
    "\"PastaWithSpicyRedSauce\" : \"паста с острым красным соусом\",\n",
    "\"RedMeat\" : \"красное мясо\",\n",
    "\"Seafood\" : \"морепродукты\",\n",
    "\"Shellfish\" : \"моллюски\",\n",
    "\"SpicyRedMeat\" : \"острое красное мясо\",\n",
    "\"SweetDessert\" : \"сладкий десерт\",\n",
    "\"SweetFruit\" : \"сладкие фрукты\"\n",
    "}\n",
    "\n",
    "descr = \"\\n\".join([f\" * {k} - {v}\" for k,v in Food.items()])\n",
    "\n",
    "FoodNER = NER(\n",
    "    \"\"\"Ниже в тройных обратных кавычках приводится текст. Твоя задача - выделить из этого текста название упомянутых там блюд, из приведённого ниже списка:\n",
    "{descr}\n",
    "В качестве результата выведи только список сущностей из упомянутого списка, в круглых скобках через знак |, например (RedMeat|SpicyRedMeat). Если в запросе не содержится упоминания ни об одной из сущностей, выведи NONE. Не выводи ничего кроме результирующего списка или слова NONE.\n",
    "--- текст ---\n",
    "```{}```\n",
    "\"\"\".replace(\"{descr}\",descr),\n",
    "\"найти_вино\",\"другая_тема\",\n",
    "Food.keys()\n",
    ")\n",
    "\n",
    "for s in sentences:\n",
    "    x = mkstate(s)\n",
    "    res = FoodNER(x)\n",
    "    print(f\"{s} -> {res} {x.get('entities','')}\")"
   ]
  },
  {
   "cell_type": "markdown",
   "metadata": {},
   "source": [
    "Теперь опишем агента по поиску подходящего вина:"
   ]
  },
  {
   "cell_type": "code",
   "execution_count": 53,
   "metadata": {},
   "outputs": [],
   "source": [
    "import pytholog as pl\n",
    "\n",
    "class WineFinder(Agent):\n",
    "    def __init__(self):\n",
    "        self.kb = pl.KnowledgeBase('foodmatch')  \n",
    "        self.program = [ \"match(F,W) :- foodmatch(F,hasColor,C), wine(W,hasColor,C), foodmatch(F,hasSugar,S), wine(W,hasSugar,S), foodmatch(F,hasFlavor,U), wine(W,hasFlavor,U), foodmatch(F,hasBody,B), wine(W,hasBody,B)\"]\n",
    "        self.kb([ x.strip()[:-1] for x in open('foodmatch.pl').readlines() if x[0]!='#' ]+self.program)      \n",
    "\n",
    "    def __call__(self, state):\n",
    "        res = set()\n",
    "        for f in state['entities']:\n",
    "            q = self.kb.query(pl.Expr(f\"match(food_{f},W)\"))\n",
    "            if q==['No']:\n",
    "                continue\n",
    "            res |= { list(x.values())[0] for x in q }\n",
    "        wines = \", \".join([ x[5:] for x in res ])\n",
    "        state['output'] = f\"Вам подойдут следующие вина:\\n{wines}\"\n",
    "\n",
    "WineFinderAgent = WineFinder()"
   ]
  },
  {
   "cell_type": "markdown",
   "metadata": {},
   "source": [
    "Теперь опишем таблицу меж-агентных переходов и запустим всю многоагентную систему:"
   ]
  },
  {
   "cell_type": "code",
   "execution_count": 54,
   "metadata": {},
   "outputs": [
    {
     "name": "stdout",
     "output_type": "stream",
     "text": [
      "Executing state: начало, state = {'input': 'Какие вина едят с рыбой?'}\n",
      "Executing state: подбор_вина, state = {'input': 'Какие вина едят с рыбой?'}\n",
      "Executing state: найти_вино, state = {'input': 'Какие вина едят с рыбой?', 'entities': ['Fish']}\n"
     ]
    },
    {
     "data": {
      "text/plain": [
       "{'input': 'Какие вина едят с рыбой?',\n",
       " 'entities': ['Fish'],\n",
       " 'output': 'Вам подойдут следующие вина:\\nWhiteWine, Semillon, TableWine, SauvignonBlanc, DryWine, WhiteTableWine, WhiteBordeaux, Tours, WhiteNonSweetWine, PinotBlanc, Sancerre, SemillonOrSauvignonBlanc, EarlyHarvest, DryRiesling, CheninBlanc, WhiteLoire, WhiteBurgundy, Meursault, Riesling, DryWhiteWine, Chardonnay, Burgundy'}"
      ]
     },
     "execution_count": 54,
     "metadata": {},
     "output_type": "execute_result"
    }
   ],
   "source": [
    "table = {\n",
    "    'начало' : InputClassifier,\n",
    "    'подбор_вина' : FoodNER,\n",
    "    'найти_вино' : WineFinderAgent,\n",
    "    'другая_тема' : GeneralNER,\n",
    "    'simple_rag' : TheNaiveRAG,\n",
    "    'graph_rag' : TheGraphRAG\n",
    "}\n",
    "\n",
    "AR = AgentRuntime(table)\n",
    "AR.run(mkstate(sentences[-1]), 'начало', verbose=True)"
   ]
  },
  {
   "cell_type": "markdown",
   "metadata": {},
   "source": [
    "## Дальнейшие улучшения\n",
    "\n",
    "В данном примере мы не рассмотрели обратную задачу подбору вина - подбору блюда под конкретное вино. Это чуть более сложная задача из-за большого количества конкретных вин в онтологии. Также было бы логично подбирать как блюда, так и сорта вина по отдельным параметрам (цвет, сладость, тело, вкус).\n",
    "\n",
    "Существенного улучшения качества диалога можно добиться, добавив в многоагентную систему проверку на адекватность ответа. В этом случае в конце диалога мы ставим LLM, которая оценивает, насколько ответ системы хорошо подходит под изначальный вопрос пользователя. Если совпадение неполное, то вопрос перефразируется LLM-кой, и затем цикл подбора ответа на вопрос повторяется. Схема такой обратной петли показана на рисунке ниже:\n",
    "\n",
    "![](img/step3.svg)"
   ]
  },
  {
   "cell_type": "markdown",
   "metadata": {},
   "source": []
  }
 ],
 "metadata": {
  "kernelspec": {
   "display_name": "fresh",
   "language": "python",
   "name": "python3"
  },
  "language_info": {
   "codemirror_mode": {
    "name": "ipython",
    "version": 3
   },
   "file_extension": ".py",
   "mimetype": "text/x-python",
   "name": "python",
   "nbconvert_exporter": "python",
   "pygments_lexer": "ipython3",
   "version": "3.10.13"
  }
 },
 "nbformat": 4,
 "nbformat_minor": 2
}
